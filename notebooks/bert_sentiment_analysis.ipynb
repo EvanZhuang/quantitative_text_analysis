{
 "cells": [
  {
   "cell_type": "markdown",
   "id": "edb39e07",
   "metadata": {},
   "source": [
    "## Training a custom BERT\n",
    "We show procedures of traininig a custom BERT for tweets sentiment analysis"
   ]
  },
  {
   "cell_type": "code",
   "execution_count": 1,
   "id": "f7b4c883",
   "metadata": {},
   "outputs": [
    {
     "name": "stderr",
     "output_type": "stream",
     "text": [
      "/home/yufan/anaconda3/envs/web2/lib/python3.9/site-packages/tqdm/auto.py:21: TqdmWarning: IProgress not found. Please update jupyter and ipywidgets. See https://ipywidgets.readthedocs.io/en/stable/user_install.html\n",
      "  from .autonotebook import tqdm as notebook_tqdm\n"
     ]
    }
   ],
   "source": [
    "# import libraries\n",
    "import logging\n",
    "import os, re\n",
    "import random\n",
    "import sys\n",
    "import warnings\n",
    "from dataclasses import dataclass, field\n",
    "from typing import List, Optional\n",
    "import pandas as pd\n",
    "\n",
    "import datasets\n",
    "import evaluate\n",
    "import numpy as np\n",
    "from datasets import Value, load_dataset\n",
    "\n",
    "import torch\n",
    "from torch.utils.data import DataLoader\n",
    "\n",
    "import transformers\n",
    "from transformers import (\n",
    "    AutoConfig,\n",
    "    AutoModelForSequenceClassification,\n",
    "    AutoTokenizer,\n",
    "    DataCollatorWithPadding,\n",
    "    EvalPrediction,\n",
    "    HfArgumentParser,\n",
    "    Trainer,\n",
    "    TrainingArguments,\n",
    "    default_data_collator,\n",
    "    set_seed,\n",
    ")\n",
    "from transformers.trainer_utils import get_last_checkpoint\n",
    "import matplotlib.pyplot as plt\n"
   ]
  },
  {
   "cell_type": "code",
   "execution_count": 2,
   "id": "74a7a7d2",
   "metadata": {},
   "outputs": [
    {
     "name": "stdout",
     "output_type": "stream",
     "text": [
      "env: TOKENIZERS_PARALLELISM=true\n"
     ]
    }
   ],
   "source": [
    "# set environment variables\n",
    "%env TOKENIZERS_PARALLELISM=true"
   ]
  },
  {
   "cell_type": "code",
   "execution_count": 3,
   "id": "23fe8fc9",
   "metadata": {},
   "outputs": [],
   "source": [
    "# set training and model parameters\n",
    "batch_size = 32 # Training batch size\n",
    "learning_rate = 5e-5 # Training learning rate\n",
    "max_seq_length = 512 # The maximum sequence length of input texts\n",
    "total_train_epoch = 1 # Total number of training epochs to perform\n",
    "ckpt_path = \"../data/twitter_bert_model.pt\" # Path to save the model\n",
    "#if os.path.exists(ckpt_path): \n",
    "#    model_name_or_path = ckpt_path\n",
    "#else:\n",
    "model_name_or_path = \"bert-base-cased\"\n",
    "num_labels = 2 # Number of labels in the dataset, =2 because it's binary classification\n",
    "padding = \"max_length\" # Padding strategy, pad to the max length of the input texts\n",
    "\n",
    "device = torch.device(\"cuda\", 1) # Use GPU for training"
   ]
  },
  {
   "cell_type": "code",
   "execution_count": 4,
   "id": "86191ae8",
   "metadata": {
    "scrolled": true
   },
   "outputs": [
    {
     "name": "stderr",
     "output_type": "stream",
     "text": [
      "Some weights of BertForSequenceClassification were not initialized from the model checkpoint at bert-base-cased and are newly initialized: ['classifier.weight', 'classifier.bias']\n",
      "You should probably TRAIN this model on a down-stream task to be able to use it for predictions and inference.\n"
     ]
    }
   ],
   "source": [
    "# Use the default model configuration of BERT-base-cased\n",
    "config = AutoConfig.from_pretrained(\n",
    "    model_name_or_path,\n",
    "    num_labels=num_labels,\n",
    "    finetuning_task=\"text-classification\",\n",
    ")\n",
    "# Load the tokenizer\n",
    "tokenizer = AutoTokenizer.from_pretrained(\n",
    "    model_name_or_path,\n",
    "    use_fast=True,\n",
    ")\n",
    "# Load the model\n",
    "model = AutoModelForSequenceClassification.from_pretrained(\n",
    "    model_name_or_path,\n",
    "    from_tf=bool(\".ckpt\" in model_name_or_path),\n",
    "    config=config,\n",
    ")"
   ]
  },
  {
   "cell_type": "code",
   "execution_count": 5,
   "id": "ef547314",
   "metadata": {},
   "outputs": [],
   "source": [
    "def preprocess_function(examples):\n",
    "    # Tokenize the texts\n",
    "    result = tokenizer(examples[\"text\"], padding=padding, max_length=max_seq_length, truncation=True)\n",
    "    return result"
   ]
  },
  {
   "cell_type": "code",
   "execution_count": 6,
   "id": "e8a53451",
   "metadata": {},
   "outputs": [],
   "source": [
    "# Load the dataset\n",
    "raw_datasets = load_dataset(\"carblacac/twitter-sentiment-analysis\")\n",
    "raw_datasets = raw_datasets.rename_column(\"feeling\", \"labels\")\n",
    "# Preprocess the dataset\n",
    "raw_datasets = raw_datasets.map(\n",
    "        preprocess_function,\n",
    "        batched=False,\n",
    ")\n",
    "# Train-validation split\n",
    "train_dataset = raw_datasets['train']\n",
    "eval_dataset = raw_datasets['test']"
   ]
  },
  {
   "cell_type": "code",
   "execution_count": 7,
   "id": "de988149",
   "metadata": {},
   "outputs": [],
   "source": [
    "# Transform the dataset into PyTorch DataLoader\n",
    "train_dataloader = DataLoader(\n",
    "    train_dataset, shuffle=True, collate_fn=default_data_collator, batch_size=batch_size, num_workers=8\n",
    ")\n",
    "eval_dataloader = DataLoader(\n",
    "    eval_dataset, collate_fn=default_data_collator, batch_size=batch_size, num_workers=8\n",
    ")"
   ]
  },
  {
   "cell_type": "code",
   "execution_count": 8,
   "id": "a53f810b",
   "metadata": {},
   "outputs": [],
   "source": [
    "# Optimizer\n",
    "# Split weights in two groups, one with weight decay and the other not.\n",
    "no_decay = [\"bias\", \"LayerNorm.weight\"]\n",
    "optimizer_grouped_parameters = [\n",
    "    {\n",
    "        \"params\": [p for n, p in model.named_parameters() if not any(nd in n for nd in no_decay)],\n",
    "        \"weight_decay\": 0.01,\n",
    "    },\n",
    "    {\n",
    "        \"params\": [p for n, p in model.named_parameters() if any(nd in n for nd in no_decay)],\n",
    "        \"weight_decay\": 0.0,\n",
    "    },\n",
    "]\n",
    "optimizer = torch.optim.AdamW(optimizer_grouped_parameters, lr=learning_rate)"
   ]
  },
  {
   "cell_type": "code",
   "execution_count": 9,
   "id": "e3383c6e",
   "metadata": {},
   "outputs": [
    {
     "name": "stderr",
     "output_type": "stream",
     "text": [
      "/home/yufan/anaconda3/envs/web2/lib/python3.9/site-packages/torch/cuda/__init__.py:497: UserWarning: Can't initialize NVML\n",
      "  warnings.warn(\"Can't initialize NVML\")\n"
     ]
    },
    {
     "name": "stdout",
     "output_type": "stream",
     "text": [
      "At epoch 1, eval acc = 0.8328171876512146, training loss = 0.4055807888507843\n"
     ]
    }
   ],
   "source": [
    "# Training Loop\n",
    "metric = evaluate.load(\"accuracy\")\n",
    "\n",
    "model.train()\n",
    "model = model.to(device)\n",
    "for epoch in range(total_train_epoch):\n",
    "    total_loss = 0\n",
    "    for batch in train_dataloader:\n",
    "        batch = {_: batch[_].to(device) for _ in batch.keys()}\n",
    "        outputs = model(**batch)\n",
    "        loss = outputs.loss\n",
    "        # We keep track of the loss at each epoch\n",
    "        total_loss += loss.detach().float()\n",
    "        loss.backward()\n",
    "        optimizer.step()\n",
    "        optimizer.zero_grad()\n",
    "    \n",
    "    for batch in eval_dataloader:\n",
    "        batch = {_: batch[_].to(device) for _ in batch.keys()}\n",
    "        with torch.no_grad():\n",
    "            outputs = model(**batch)\n",
    "            pred = outputs.logits.argmax(dim=-1)\n",
    "        metric.add_batch(predictions=pred.view(-1), references=batch['labels'].view(-1))\n",
    "    eval_metric = metric.compute()\n",
    "    print(\"At epoch {}, eval acc = {}, training loss = {}\".format(epoch+1, eval_metric['accuracy'], total_loss/len(train_dataloader)))"
   ]
  },
  {
   "cell_type": "code",
   "execution_count": 10,
   "id": "32698639",
   "metadata": {},
   "outputs": [],
   "source": [
    "# Save the model\n",
    "model.save_pretrained(\"../data/twitter_bert_model.pt\", from_pt=True)"
   ]
  },
  {
   "cell_type": "code",
   "execution_count": 11,
   "id": "886c316b",
   "metadata": {},
   "outputs": [],
   "source": [
    "# Now we do inference on our tweets\n",
    "df = pd.read_csv(\"../data/tweets_PDChina_All.csv\", low_memory=False).dropna()\n",
    "text_lst = df['text'].tolist()\n",
    "# HTML Link Removal\n",
    "nolink_text_lst = [re.sub(r'http\\S+', '', _) for _ in  text_lst]\n",
    "nolink_text_lst = [re.sub(r'pic\\.twitter\\.com/\\S+', '', _) for _ in  nolink_text_lst]\n",
    "# Remove non-English Characters\n",
    "eng_text_lst = [_.encode(\"ascii\", errors=\"ignore\").decode() for _ in nolink_text_lst]"
   ]
  },
  {
   "cell_type": "code",
   "execution_count": 12,
   "id": "b70a5ed1",
   "metadata": {},
   "outputs": [
    {
     "name": "stderr",
     "output_type": "stream",
     "text": [
      "We strongly recommend passing in an `attention_mask` since your input_ids may be padded. See https://huggingface.co/docs/transformers/troubleshooting#incorrect-output-when-padding-tokens-arent-masked.\n"
     ]
    }
   ],
   "source": [
    "model = model.to(device)\n",
    "# Iterate over all tweets and do inference\n",
    "sentiment_lst = []\n",
    "for text in eng_text_lst:\n",
    "    input_ids = tokenizer(text, padding=padding, max_length=max_seq_length, truncation=True)\n",
    "    input_ids = torch.tensor(input_ids['input_ids']).unsqueeze(0).to(device)\n",
    "    with torch.no_grad():\n",
    "        outputs = model(input_ids=input_ids, labels=None)\n",
    "        pred = outputs.logits.detach()\n",
    "        # Convert log-softmax scores to softmax scores\n",
    "        softmax_probs = torch.exp(pred)\n",
    "        # Normalize to get valid probabilities\n",
    "        softmax_probs = softmax_probs / softmax_probs.sum(dim=1, keepdim=True)\n",
    "        softmax_probs = softmax_probs.cpu().numpy()\n",
    "    sentiment_lst.append(softmax_probs[0,1])"
   ]
  },
  {
   "cell_type": "code",
   "execution_count": 13,
   "id": "3766c474",
   "metadata": {},
   "outputs": [],
   "source": [
    "# Save the results\n",
    "df['sentiment'] = sentiment_lst\n",
    "df.to_csv(\"../data/tweets_PDChina_All_with_sentiment.csv\", sep=',', index=False, encoding='utf-8')"
   ]
  },
  {
   "cell_type": "code",
   "execution_count": 14,
   "id": "cf52afd1",
   "metadata": {},
   "outputs": [],
   "source": [
    "# Load Saved DataFrame\n",
    "df = pd.read_csv(\"../data/tweets_PDChina_All_with_sentiment.csv\")\n",
    "sentiment = df['sentiment'].to_list()\n",
    "sentiment = [x for x in sentiment]"
   ]
  },
  {
   "cell_type": "code",
   "execution_count": 15,
   "id": "4be64baf",
   "metadata": {},
   "outputs": [
    {
     "data": {
      "text/plain": [
       "(0.04701407, 0.96715945)"
      ]
     },
     "execution_count": 15,
     "metadata": {},
     "output_type": "execute_result"
    }
   ],
   "source": [
    "# examine the min and max of the sentiment scores\n",
    "min(sentiment), max(sentiment)"
   ]
  },
  {
   "cell_type": "code",
   "execution_count": 16,
   "id": "f40516fc",
   "metadata": {},
   "outputs": [
    {
     "data": {
      "image/png": "[encoded data removed]",
      "text/plain": [
       "<Figure size 640x480 with 1 Axes>"
      ]
     },
     "metadata": {},
     "output_type": "display_data"
    }
   ],
   "source": [
    "# We take a look at the sentiment distribution, it's skewed towards positive\n",
    "plt.hist(sentiment, bins=100)\n",
    "plt.show()"
   ]
  },
  {
   "cell_type": "markdown",
   "id": "a64ba580",
   "metadata": {},
   "source": [
    "As we can see, the sentiment distribution is centered around 0.7-0.8 (0.0-0.5 indicates negative sentiment, and 0.5-1.0 indicates positive sentiment), and shapes like a normal distribution. We take a qualitative inspection on the model's predictions. "
   ]
  },
  {
   "cell_type": "code",
   "execution_count": 17,
   "id": "708e7ab8",
   "metadata": {},
   "outputs": [],
   "source": [
    "# We sort the tweets according to its sentiment score\n",
    "sorted_tweets = [x for _, x in sorted(zip(sentiment, eng_text_lst))]\n",
    "sorted_sentiment = [x for x, _ in sorted(zip(sentiment, eng_text_lst))]"
   ]
  },
  {
   "cell_type": "code",
   "execution_count": 18,
   "id": "eaec3d9d",
   "metadata": {},
   "outputs": [
    {
     "name": "stdout",
     "output_type": "stream",
     "text": [
      "Tweet: An alliance of Egyptian islamist groups has canceled a series of public events due to fears of being attacked.... \n",
      "Sentiment Score: 0.04701407\n",
      "-------------------------------------------\n",
      "Tweet: Four people were missing and three bridges had collapsed in southwest China's Sichuan Province as of Tuesday... \n",
      "Sentiment Score: 0.05659788\n",
      "-------------------------------------------\n",
      "Tweet: Russian Space Agency reported that it has lost its Progress cargo spaceship that was to deliver 2.6 tons of supplies to the @Space_Station\n",
      "Sentiment Score: 0.06748822\n",
      "-------------------------------------------\n",
      "Tweet: A doctor was killed and two others injured at a hospital in east China's Zhejiang Province on Friday.\n",
      "\n",
      "Dr. Wang... \n",
      "Sentiment Score: 0.06792552\n",
      "-------------------------------------------\n",
      "Tweet: An #Iran passenger plane crashed into barrier at #Istanbul airport Thur. in #Turkey, crashing on a bus.\n",
      "Sentiment Score: 0.069881156\n",
      "-------------------------------------------\n",
      "Tweet: A small plane crashed  on residential area in Faku County, Shengyang on Fri, two people on board were injured\n",
      "Sentiment Score: 0.07072837\n",
      "-------------------------------------------\n",
      "Tweet: Passenger jet was found missing a wheel after landing in central China\n",
      "\n",
      "Sentiment Score: 0.07116913\n",
      "-------------------------------------------\n",
      "Tweet: #IRAN: Search and rescue operation for crashed #AsemanAirlines passenger plane hampered by bad weather, preventing helicopters from landing  RT reported. The plane with 66 people on board has crashed near city of Semirom of Iran. Iran's Aseman Airlines said all on board killed.\n",
      "Sentiment Score: 0.072545305\n",
      "-------------------------------------------\n",
      "Tweet: A Chinese tourist was beaten & had 4 ribs broken by Vietnamese border guards who asked him for tips but didn't get immediate assent: reports\n",
      "Sentiment Score: 0.075823426\n",
      "-------------------------------------------\n",
      "Tweet: Russia's Mi-28 attack helicopter crashed during air show for hydraulic failure on Sunday. 1 pilot was killed.\n",
      "Sentiment Score: 0.07611019\n",
      "-------------------------------------------\n"
     ]
    }
   ],
   "source": [
    "# We print out the top 10 most negative tweets and their sentiment\n",
    "for _ in range(0,10):\n",
    "    print(\"Tweet: {}\".format(sorted_tweets[_]))\n",
    "    print(\"Sentiment Score: {}\".format(sorted_sentiment[_]))\n",
    "    print(\"-------------------------------------------\")"
   ]
  },
  {
   "cell_type": "code",
   "execution_count": 19,
   "id": "5852d3b3",
   "metadata": {},
   "outputs": [
    {
     "name": "stdout",
     "output_type": "stream",
     "text": [
      "Tweet: Follow us on our special reports #YangtzeRiverStories, providing you with panoramic view of breathtaking scenery, rich eco-system, fascinating history and thriving economy of China's longest river-the Yangtze River.\n",
      "Sentiment Score: 0.96715945\n",
      "-------------------------------------------\n",
      "Tweet: .@realDonaldTrump thanked President #XiJinping for \"such an incredible welcome ceremony\" held in Beijing Thursday morning, calling it \"truly memorable and impressive\"\n",
      "Sentiment Score: 0.96497816\n",
      "-------------------------------------------\n",
      "Tweet: Chinese Premier Li Keqiang is welcomed by Pakistani President Asif Ali Zardari and interim Prime Minister Mir... \n",
      "Sentiment Score: 0.96453667\n",
      "-------------------------------------------\n",
      "Tweet: Chinese President #XiJinping delivers keynote speech at #CPC in Dialogue with World Political Parties High-level Meeting, whose theme is \"Working together towards a community with a shared future for mankind and a better world: Responsibilities of political parties\"\n",
      "Sentiment Score: 0.96312624\n",
      "-------------------------------------------\n",
      "Tweet: President Xi and his wife were welcomed by Sri Lankan President Mahinda Rajapaksa & his wife upon their arrival, Tue\n",
      "Sentiment Score: 0.96310735\n",
      "-------------------------------------------\n",
      "Tweet: \"Thank you, Chinese doctors!\" \n",
      "Sentiment Score: 0.9627768\n",
      "-------------------------------------------\n",
      "Tweet: #Monkeys enjoy hot spring at Samsung Everland in South Korea\n",
      "Sentiment Score: 0.9605655\n",
      "-------------------------------------------\n",
      "Tweet: #YangtzeRiverStories: Check out this calligraphy robot with a master's touch! Developed by Efort Intelligent Equipment in Wuhu, E China's Anhui Province, the robot can skillfully write Chinese characters and can be used in the assembly of precision instruments.\n",
      "Sentiment Score: 0.9603377\n",
      "-------------------------------------------\n",
      "Tweet: Happy birthday! The twin pandas Fu Feng and Fu Ban born in Austria celebrated their second birthday at the Schoenbrunn Zoo in Vienna on Tuesday, receiving packages of potatoes, carrots and special bamboo shoots as birthday gifts.\n",
      "Sentiment Score: 0.95867795\n",
      "-------------------------------------------\n",
      "Tweet: President Xi Jinping addresses welcome dinner for Dialogue on Strengthening Connectivity Partnership in Beijing, Sat.\n",
      "Sentiment Score: 0.95837027\n",
      "-------------------------------------------\n"
     ]
    }
   ],
   "source": [
    "# We print out the top 10 most positive tweets and their sentiment\n",
    "for _ in range(1,11):\n",
    "    print(\"Tweet: {}\".format(sorted_tweets[-_]))\n",
    "    print(\"Sentiment Score: {}\".format(sorted_sentiment[-_]))\n",
    "    print(\"-------------------------------------------\")"
   ]
  },
  {
   "cell_type": "markdown",
   "id": "fd1dfc55",
   "metadata": {},
   "source": [
    "## Using an off-the-shelf model\n",
    "Our model appears to have grasped the sentiment analysis task. However, there's a notable bias in its predictions, skewing heavily towards positive outcomes. While we could employ additional techniques to rectify this imbalance, it would lead us into the complex realm of deep learning. To maintain focus, we will opt for a pre-trained and calibrated off-the-shelf model for our analysis."
   ]
  },
  {
   "cell_type": "code",
   "execution_count": 20,
   "id": "3bbbce49",
   "metadata": {},
   "outputs": [],
   "source": [
    "# this is the model we use for sentiment analysis, check out the datils of the model here: https://huggingface.co/cardiffnlp/twitter-roberta-base-sentiment\n",
    "model_name_or_path = \"cardiffnlp/twitter-roberta-base-sentiment\"\n",
    "\n",
    "# Use the default model configuration of BERT-base-cased\n",
    "config = AutoConfig.from_pretrained(\n",
    "    model_name_or_path,\n",
    "    num_labels=3,\n",
    "    finetuning_task=\"text-classification\",\n",
    ")\n",
    "# Load the tokenizer\n",
    "tokenizer = AutoTokenizer.from_pretrained(\n",
    "    model_name_or_path,\n",
    "    use_fast=True,\n",
    ")\n",
    "# Load the model\n",
    "model = AutoModelForSequenceClassification.from_pretrained(\n",
    "    model_name_or_path,\n",
    "    from_tf=bool(\".ckpt\" in model_name_or_path),\n",
    "    config=config,\n",
    ")"
   ]
  },
  {
   "cell_type": "code",
   "execution_count": 21,
   "id": "c0f21066",
   "metadata": {},
   "outputs": [],
   "source": [
    "model = model.to(device)\n",
    "# Iterate over all tweets and do inference\n",
    "sentiment_lst = []\n",
    "for text in eng_text_lst:\n",
    "    input_ids = tokenizer(text, padding=padding, max_length=max_seq_length, truncation=True)\n",
    "    input_ids = torch.tensor(input_ids['input_ids']).unsqueeze(0).to(device)\n",
    "    with torch.no_grad():\n",
    "        outputs = model(input_ids=input_ids, labels=None)\n",
    "        pred = outputs.logits.detach()\n",
    "        # Convert log-softmax scores to softmax scores\n",
    "        softmax_probs = torch.exp(pred)\n",
    "        # Normalize to get valid probabilities\n",
    "        softmax_probs = softmax_probs / softmax_probs.sum(dim=1, keepdim=True)\n",
    "        softmax_probs = softmax_probs.cpu().numpy()\n",
    "    # Append the probability of being positive\n",
    "    sentiment_lst.append(-softmax_probs[0,0]  + softmax_probs[0,2]) # Negative + Positive"
   ]
  },
  {
   "cell_type": "code",
   "execution_count": 22,
   "id": "806aadc3",
   "metadata": {},
   "outputs": [],
   "source": [
    "# Save the results\n",
    "df['sentiment'] = sentiment_lst\n",
    "df.to_csv(\"../data/tweets_PDChina_All_with_sentiment_v2.csv\", sep=',', index=False, encoding='utf-8')"
   ]
  },
  {
   "cell_type": "code",
   "execution_count": 23,
   "id": "af5289be",
   "metadata": {},
   "outputs": [],
   "source": [
    "# Load Saved DataFrame\n",
    "df = pd.read_csv(\"../data/tweets_PDChina_All_with_sentiment_v2.csv\")\n",
    "sentiment = df['sentiment'].to_list()\n",
    "sentiment = [x for x in sentiment]"
   ]
  },
  {
   "cell_type": "markdown",
   "id": "99014ebb",
   "metadata": {},
   "source": [
    "Like what we have done before, we check to see the prediction distribution of the model, and conduct a qualitative analysis on its results."
   ]
  },
  {
   "cell_type": "code",
   "execution_count": 24,
   "id": "5c2fbad7",
   "metadata": {},
   "outputs": [
    {
     "data": {
      "text/plain": [
       "(-0.90233, 0.97077364)"
      ]
     },
     "execution_count": 24,
     "metadata": {},
     "output_type": "execute_result"
    }
   ],
   "source": [
    "# examine the min and max of the sentiment scores\n",
    "min(sentiment), max(sentiment)"
   ]
  },
  {
   "cell_type": "code",
   "execution_count": 25,
   "id": "37bd3497",
   "metadata": {},
   "outputs": [
    {
     "data": {
      "image/png": "[encoded data removed]",
      "text/plain": [
       "<Figure size 640x480 with 1 Axes>"
      ]
     },
     "metadata": {},
     "output_type": "display_data"
    }
   ],
   "source": [
    "# We take a look at the sentiment distribution, it's skewed towards positive\n",
    "plt.hist(sentiment, bins=100)\n",
    "plt.show() "
   ]
  },
  {
   "cell_type": "code",
   "execution_count": 26,
   "id": "a214e387",
   "metadata": {},
   "outputs": [],
   "source": [
    "# We sort the tweets according to its sentiment score\n",
    "sorted_tweets = [x for _, x in sorted(zip(sentiment, eng_text_lst))]\n",
    "sorted_sentiment = [x for x, _ in sorted(zip(sentiment, eng_text_lst))]"
   ]
  },
  {
   "cell_type": "code",
   "execution_count": 27,
   "id": "81c8a5bf",
   "metadata": {},
   "outputs": [
    {
     "name": "stdout",
     "output_type": "stream",
     "text": [
      "Tweet: 10 critically endangered black rhinos have died after being moved to a new habitat in Kenya, and the sole survivor in the transfer was injured after being attacked by a lion, sparking outrage over officials' negligence that led to what some have called a disaster for the species\n",
      "Sentiment Score: -0.90233\n",
      "-------------------------------------------\n",
      "Tweet: Horrifying! An inflatable bouncy castle got thrown over by strong wind on the street of Quanzhou, SE China's Fujian province on Tuesday, killing a 6-year-old boy and leaving another two passers-by injured\n",
      "Sentiment Score: -0.9013829\n",
      "-------------------------------------------\n",
      "Tweet: Extremely dangerous! Driver kills time by shooting slingshot to vehicles in #Beijing. Case is under investigation\n",
      "Sentiment Score: -0.90084463\n",
      "-------------------------------------------\n",
      "Tweet: Jealous of the rich, drunkards vent hatred by damaging over 20 cars in E. China \n",
      "Sentiment Score: -0.89656323\n",
      "-------------------------------------------\n",
      "Tweet: A total of 24 people have been killed by rioters in a violent terrorist attack in a remote town in northwest... \n",
      "Sentiment Score: -0.8961884\n",
      "-------------------------------------------\n",
      "Tweet: A total of 24 people have been killed by rioters in a violent terrorist attack in a remote town in northwest... \n",
      "Sentiment Score: -0.8961884\n",
      "-------------------------------------------\n",
      "Tweet: 11 people in Hunan were sentenced to 1-7 yrs prison Tue for selling poisonous dog meat; they killed 1000 dogs with darts covered in toxics\n",
      "Sentiment Score: -0.8934421\n",
      "-------------------------------------------\n",
      "Tweet: A deadly traffic accident killed 9 people and injured 3 others on Sunday on a highway in E China's Hangzhou in Zhejiang Province, according to Hangzhou police. The accident involved 3 vans and 2 minibuses, among which 3 of the vehicles were burned. Investigation is underway.\n",
      "Sentiment Score: -0.8921612\n",
      "-------------------------------------------\n",
      "Tweet: Over 400 injured in #LasVegasShooting, the worst mass shooting in modern American history. 64yo gunman found dead by SWAT team in the hotel\n",
      "Sentiment Score: -0.8916631\n",
      "-------------------------------------------\n",
      "Tweet: One passenger died after a US Southwest Airlines flight from New York to Dallas made an emergency landing in Philadelphia on Tuesday due to an engine failure that reportedly shattered a window and almost sucked a woman outside the aircraft\n",
      "Sentiment Score: -0.8902365\n",
      "-------------------------------------------\n"
     ]
    }
   ],
   "source": [
    "# We print out the top 10 most negative tweets and their sentiment\n",
    "for _ in range(0,10):\n",
    "    print(\"Tweet: {}\".format(sorted_tweets[_]))\n",
    "    print(\"Sentiment Score: {}\".format(sorted_sentiment[_]))\n",
    "    print(\"-------------------------------------------\")"
   ]
  },
  {
   "cell_type": "code",
   "execution_count": 28,
   "id": "78ef6355",
   "metadata": {},
   "outputs": [
    {
     "name": "stdout",
     "output_type": "stream",
     "text": [
      "Tweet: A very happy birthday indeed! Female giant panda twins \"Hehe\" and \"Jiujiu\" on Friday celebrated their 3rd birthday in a comfortable air-conditioned room at the Nanjing Hongshan Forest Zoo in Nanjing, East China's Jiangsu Province. (Photo/Xinhua)\n",
      "Sentiment Score: 0.97077364\n",
      "-------------------------------------------\n",
      "Tweet: It's that time of year again when we celebrate everything dad has done for us on the coming#FathersDayon Jun 17. We found some adorable animal-human embraces pulled by worldwide photographers, as animals were having heartwarming moments with their human dads. (Photo/IC)\n",
      "Sentiment Score: 0.9563161\n",
      "-------------------------------------------\n",
      "Tweet: We're growing up! 23 giant #panda cubs born in Chengdu last yr regroup for the cutest-ever Spring Festival greeting: HAPPY #ChineseNewYear!\n",
      "Sentiment Score: 0.9544175\n",
      "-------------------------------------------\n",
      "Tweet: Happy birthday to you! Male panda Jiao Qing celebrated his 8th birthday with a three-story birthday cake at the Berlin Zoo in #Germany on Sunday; Jiao Qing and female panda Meng Meng are the only pair of pandas in Germany.\n",
      "Sentiment Score: 0.95280814\n",
      "-------------------------------------------\n",
      "Tweet: Meet the most beautiful 21-yr-old girl at Wenchuan marathon: she lost her right leg in Wenchuan #earthquake on May 12, 2008, won wide support and respect as she completed the half #marathon in Wenchuan this May within 4hours with a confident smile\n",
      "Sentiment Score: 0.9512124\n",
      "-------------------------------------------\n",
      "Tweet: Hey, my fluffy best friend! A pair of lion cubs seem like they're the best of friends as one comforts the other with a cute paw over the shoulder on an early morning in #Kenya\n",
      "Sentiment Score: 0.95096904\n",
      "-------------------------------------------\n",
      "Tweet: Giant #panda \"Chengji\" gave birth to a male cub on Fri, making her the proud mother of ten panda cubs. Congrats!\n",
      "Sentiment Score: 0.9495178\n",
      "-------------------------------------------\n",
      "Tweet: A very chilled-out birthday thanks to the cutest ice cake! Giant panda Meng Meng from #China celebrated her 5th birthday at the Berlin Zoological Garden in #Germany on July 10.\n",
      "Sentiment Score: 0.9495078\n",
      "-------------------------------------------\n",
      "Tweet: Enjoy flowers in #Guyu! As the 6th solar term in Chinese calendar, Guyu usually begins around April 20 and ends around May 5. With the rising temperatures, Guyu is considered as the best season for plants. Photos show flowers blooming in Wenzhou, East Chinas #Zhejiang province.\n",
      "Sentiment Score: 0.94902766\n",
      "-------------------------------------------\n",
      "Tweet: The first International Collegiate Competition for Brain-inspired Computing is excitedly looking forward to meet college students from all over the world. Winners can bring home one million yuan ($151,700)  \n",
      "Sentiment Score: 0.94895875\n",
      "-------------------------------------------\n"
     ]
    }
   ],
   "source": [
    "# We print out the top 10 most positive tweets and their sentiment\n",
    "for _ in range(1,11):\n",
    "    print(\"Tweet: {}\".format(sorted_tweets[-_]))\n",
    "    print(\"Sentiment Score: {}\".format(sorted_sentiment[-_]))\n",
    "    print(\"-------------------------------------------\")"
   ]
  }
 ],
 "metadata": {
  "kernelspec": {
   "display_name": "Python 3 (ipykernel)",
   "language": "python",
   "name": "python3"
  },
  "language_info": {
   "codemirror_mode": {
    "name": "ipython",
    "version": 3
   },
   "file_extension": ".py",
   "mimetype": "text/x-python",
   "name": "python",
   "nbconvert_exporter": "python",
   "pygments_lexer": "ipython3",
   "version": "3.9.12"
  }
 },
 "nbformat": 4,
 "nbformat_minor": 5
}
