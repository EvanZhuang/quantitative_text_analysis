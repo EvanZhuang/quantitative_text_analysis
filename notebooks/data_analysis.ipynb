{
 "cells": [
  {
   "cell_type": "code",
   "execution_count": 1,
   "id": "3355e001",
   "metadata": {},
   "outputs": [],
   "source": [
    "# Importing Modules\n",
    "import pandas as pd\n",
    "import numpy as np\n",
    "import gensim, re, os \n",
    "import string, glob\n",
    "import subprocess\n",
    "import multiprocessing\n",
    "import pickle as pk\n",
    "import time, sys, datetime\n",
    "from nltk.corpus import stopwords\n",
    "from nltk.stem import WordNetLemmatizer \n",
    "from sklearn.feature_extraction.text import CountVectorizer\n",
    "from rake_nltk import Rake\n",
    "from sklearn.preprocessing import normalize\n",
    "import matplotlib.pyplot as plt\n",
    "from sklearn.decomposition import FactorAnalysis, PCA, FastICA, DictionaryLearning, NMF, TruncatedSVD, LatentDirichletAllocation\n",
    "\n",
    "from gensim import corpora\n",
    "from gensim.models import TfidfModel, LdaSeqModel\n",
    "from gensim.models.coherencemodel import CoherenceModel\n",
    "from gensim.test.utils import common_corpus\n",
    "\n",
    "import scienceplots\n",
    "# Set up matplotlib\n",
    "plt.style.use(['science','notebook'])"
   ]
  },
  {
   "cell_type": "markdown",
   "id": "f3ee4fbc",
   "metadata": {},
   "source": [
    "## Data Loading & EDA"
   ]
  },
  {
   "cell_type": "code",
   "execution_count": 2,
   "id": "54893635",
   "metadata": {},
   "outputs": [
    {
     "data": {
      "text/html": [
       "<div>\n",
       "<style scoped>\n",
       "    .dataframe tbody tr th:only-of-type {\n",
       "        vertical-align: middle;\n",
       "    }\n",
       "\n",
       "    .dataframe tbody tr th {\n",
       "        vertical-align: top;\n",
       "    }\n",
       "\n",
       "    .dataframe thead th {\n",
       "        text-align: right;\n",
       "    }\n",
       "</style>\n",
       "<table border=\"1\" class=\"dataframe\">\n",
       "  <thead>\n",
       "    <tr style=\"text-align: right;\">\n",
       "      <th></th>\n",
       "      <th>Unnamed: 0</th>\n",
       "      <th>likes</th>\n",
       "      <th>url</th>\n",
       "      <th>timestamp</th>\n",
       "      <th>Date</th>\n",
       "      <th>replies</th>\n",
       "      <th>html</th>\n",
       "      <th>retweets</th>\n",
       "      <th>text</th>\n",
       "      <th>fullname</th>\n",
       "      <th>id</th>\n",
       "      <th>user</th>\n",
       "    </tr>\n",
       "  </thead>\n",
       "  <tbody>\n",
       "    <tr>\n",
       "      <th>0</th>\n",
       "      <td>0.0</td>\n",
       "      <td>0.0</td>\n",
       "      <td>/PDChina/status/168013610180812801</td>\n",
       "      <td>2012-02-10T16:49:00</td>\n",
       "      <td>2012-02-10</td>\n",
       "      <td>0.0</td>\n",
       "      <td>&lt;p class=\"TweetTextSize js-tweet-text tweet-te...</td>\n",
       "      <td>0.0</td>\n",
       "      <td>Mainland China UnionPay expands to online stor...</td>\n",
       "      <td>People's Daily,China</td>\n",
       "      <td>1.680140e+17</td>\n",
       "      <td>PDChina</td>\n",
       "    </tr>\n",
       "    <tr>\n",
       "      <th>1</th>\n",
       "      <td>1.0</td>\n",
       "      <td>0.0</td>\n",
       "      <td>/PDChina/status/168013283855568897</td>\n",
       "      <td>2012-02-10T16:47:43</td>\n",
       "      <td>2012-02-10</td>\n",
       "      <td>0.0</td>\n",
       "      <td>&lt;p class=\"TweetTextSize js-tweet-text tweet-te...</td>\n",
       "      <td>0.0</td>\n",
       "      <td>26 countries jointly boycott EU 'carbon tax' ....</td>\n",
       "      <td>People's Daily,China</td>\n",
       "      <td>1.680130e+17</td>\n",
       "      <td>PDChina</td>\n",
       "    </tr>\n",
       "    <tr>\n",
       "      <th>2</th>\n",
       "      <td>2.0</td>\n",
       "      <td>0.0</td>\n",
       "      <td>/PDChina/status/168012807550414849</td>\n",
       "      <td>2012-02-10T16:45:49</td>\n",
       "      <td>2012-02-10</td>\n",
       "      <td>0.0</td>\n",
       "      <td>&lt;p class=\"TweetTextSize js-tweet-text tweet-te...</td>\n",
       "      <td>0.0</td>\n",
       "      <td>Safeguarding Chinese employees abroad. 从利比亚到埃及...</td>\n",
       "      <td>People's Daily,China</td>\n",
       "      <td>1.680130e+17</td>\n",
       "      <td>PDChina</td>\n",
       "    </tr>\n",
       "    <tr>\n",
       "      <th>3</th>\n",
       "      <td>3.0</td>\n",
       "      <td>0.0</td>\n",
       "      <td>/PDChina/status/168012080895635459</td>\n",
       "      <td>2012-02-10T16:42:56</td>\n",
       "      <td>2012-02-10</td>\n",
       "      <td>0.0</td>\n",
       "      <td>&lt;p class=\"TweetTextSize js-tweet-text tweet-te...</td>\n",
       "      <td>0.0</td>\n",
       "      <td>Most provinces raise minimum wage in China in ...</td>\n",
       "      <td>People's Daily,China</td>\n",
       "      <td>1.680120e+17</td>\n",
       "      <td>PDChina</td>\n",
       "    </tr>\n",
       "    <tr>\n",
       "      <th>4</th>\n",
       "      <td>4.0</td>\n",
       "      <td>0.0</td>\n",
       "      <td>/PDChina/status/168011642662174720</td>\n",
       "      <td>2012-02-10T16:41:11</td>\n",
       "      <td>2012-02-10</td>\n",
       "      <td>0.0</td>\n",
       "      <td>&lt;p class=\"TweetTextSize js-tweet-text tweet-te...</td>\n",
       "      <td>0.0</td>\n",
       "      <td>UN: Young people suffer from highest unemploym...</td>\n",
       "      <td>People's Daily,China</td>\n",
       "      <td>1.680120e+17</td>\n",
       "      <td>PDChina</td>\n",
       "    </tr>\n",
       "  </tbody>\n",
       "</table>\n",
       "</div>"
      ],
      "text/plain": [
       "   Unnamed: 0  likes                                 url            timestamp  \\\n",
       "0         0.0    0.0  /PDChina/status/168013610180812801  2012-02-10T16:49:00   \n",
       "1         1.0    0.0  /PDChina/status/168013283855568897  2012-02-10T16:47:43   \n",
       "2         2.0    0.0  /PDChina/status/168012807550414849  2012-02-10T16:45:49   \n",
       "3         3.0    0.0  /PDChina/status/168012080895635459  2012-02-10T16:42:56   \n",
       "4         4.0    0.0  /PDChina/status/168011642662174720  2012-02-10T16:41:11   \n",
       "\n",
       "         Date  replies                                               html  \\\n",
       "0  2012-02-10      0.0  <p class=\"TweetTextSize js-tweet-text tweet-te...   \n",
       "1  2012-02-10      0.0  <p class=\"TweetTextSize js-tweet-text tweet-te...   \n",
       "2  2012-02-10      0.0  <p class=\"TweetTextSize js-tweet-text tweet-te...   \n",
       "3  2012-02-10      0.0  <p class=\"TweetTextSize js-tweet-text tweet-te...   \n",
       "4  2012-02-10      0.0  <p class=\"TweetTextSize js-tweet-text tweet-te...   \n",
       "\n",
       "   retweets                                               text  \\\n",
       "0       0.0  Mainland China UnionPay expands to online stor...   \n",
       "1       0.0  26 countries jointly boycott EU 'carbon tax' ....   \n",
       "2       0.0  Safeguarding Chinese employees abroad. 从利比亚到埃及...   \n",
       "3       0.0  Most provinces raise minimum wage in China in ...   \n",
       "4       0.0  UN: Young people suffer from highest unemploym...   \n",
       "\n",
       "               fullname            id     user  \n",
       "0  People's Daily,China  1.680140e+17  PDChina  \n",
       "1  People's Daily,China  1.680130e+17  PDChina  \n",
       "2  People's Daily,China  1.680130e+17  PDChina  \n",
       "3  People's Daily,China  1.680120e+17  PDChina  \n",
       "4  People's Daily,China  1.680120e+17  PDChina  "
      ]
     },
     "execution_count": 2,
     "metadata": {},
     "output_type": "execute_result"
    }
   ],
   "source": [
    "# Importing Data\n",
    "df = pd.read_csv(\"../data/tweets_PDChina_All.csv\", low_memory=False).dropna()\n",
    "# Take a look at the first few rows\n",
    "df.head()"
   ]
  },
  {
   "cell_type": "code",
   "execution_count": 3,
   "id": "8ad9243e",
   "metadata": {},
   "outputs": [],
   "source": [
    "def get_year(string_date):\n",
    "    # Convert string to datetime object\n",
    "    date = datetime.datetime.strptime(string_date, \"%Y-%m-%d\")\n",
    "    return date.year"
   ]
  },
  {
   "cell_type": "code",
   "execution_count": 4,
   "id": "a65f0d4c",
   "metadata": {},
   "outputs": [
    {
     "data": {
      "image/png": "[encoded data removed]",
      "text/plain": [
       "<Figure size 800x600 with 1 Axes>"
      ]
     },
     "metadata": {},
     "output_type": "display_data"
    }
   ],
   "source": [
    "# Plot the distribution of the data\n",
    "# We first convert the date column to a list of years\n",
    "# Then we plot the histogram\n",
    "date_lst = [get_year(_) for _ in df['Date'].tolist()]\n",
    "ax = plt.hist(date_lst, bins=sorted(list(set(date_lst))) + [2019], alpha=0.7, rwidth=0.65)\n",
    "plt.title(\"Twitter Data Distribution\")\n",
    "plt.xlabel(\"Year\")\n",
    "plt.ylabel(\"Count\")\n",
    "plt.locator_params(axis='y', nbins=8)\n",
    "plt.locator_params(axis='x', nbins=10)\n",
    "plt.tick_params(which='minor', bottom=False, top=False, left=False, right=False)"
   ]
  },
  {
   "cell_type": "markdown",
   "id": "81183c91",
   "metadata": {},
   "source": [
    "We can observe that the tweet frequency is much higher in the period of 2015-2018."
   ]
  },
  {
   "cell_type": "markdown",
   "id": "9b94c02b",
   "metadata": {},
   "source": [
    "## Data Cleaning"
   ]
  },
  {
   "cell_type": "code",
   "execution_count": 5,
   "id": "aa2908af",
   "metadata": {},
   "outputs": [],
   "source": [
    "# In this section, we will perform some data cleaning\n",
    "# We will first remove all the punctuations and digits\n",
    "# Then we will remove all the stopwords\n",
    "# Finally, we will lemmatize the words\n",
    "\n",
    "np.random.seed(42)\n",
    "\n",
    "lemma = WordNetLemmatizer()\n",
    "\n",
    "exclude = set(string.punctuation)\n",
    "exclude.update(set(string.digits))\n",
    "include = set(string.printable)\n",
    "\n",
    "stop = set(stopwords.words('english'))\n",
    "self_defined = ['are', 'more', 'this', 'its', 'has', 'have', 'or', 'was', 'which', 'their', 'about', 'one', 'not', 'who', 'other', 'they', 'all', 'he', 'were', 'will', 'up', 'been', 'than', 'when', 'some', 'also',\n",
    " 'said', 'there', 'two', 'his', 'out', 'had', 'no', 'into', 'would', 'we', 'if', 'most', 'people', 'over', 'so', 'only', 'them', 'first', 'after', 'what', 'can', 'i', 'now', 'last', 'many', 'you', 'like',\n",
    " 'us', 'because', 'even', 'could', 'where', 'just', 'such', 'do', 'made', 'may', 'she', 'here', 'her', 'through', 'then', 'these', 'any', 'three', 'well', 'says', 'before', 'much', 'our', 'those',\n",
    " 'still', 'my', 'him', 'very', 'between', 'dr', 'monday', 'tuesday', 'wednesday', 'thursday', 'friday', 'saturday', 'sunday',\n",
    "'january', 'february', 'march', 'april', 'may', 'june', 'july', 'august', 'september', 'october', 'november', 'december', \n",
    "               'mr', 'mrs' 'you', 'it', 'per', 'china', 'chinese', 'dont', 'report', 'show', 'article', 'news', 'photo',\n",
    "               'dr', 'miss', 'mr', 'st', 'ave', 'street', 'pm', 'time', 'today', 'year', 'though', 'didnt', 'get',\n",
    "               'make', 'way', 'big', 'going', 'another', 'including', 'already', 'think', 'take', 'Might', 'around', 'without', 'thing', 'day',  'might', 'need', 'see', 'thats', 'there', 'around', 'never',  'put', 'need', 'want', 'rd', 'w', 'e','sat',\n",
    "               'east', 'noon', 'night', 'according', 'part', 'le', 'another' , 'going', 'tell', 'later', 'day', 'minute', 'give',\n",
    "               'another', 'problem', 'recent', 'among', 'might', 'go', 'ago',  'think', 'b', 'want', 'come' , 'several', 'called', 'whether', 'thcentury', 'c', 'yearold']\n",
    "\n",
    "stop.update(self_defined)\n",
    "THRESHOLD = 8\n",
    "\n",
    "origin = ['hong kong', 'north korea', 'new york', 'south korea', 'united state', 'united kingdom', ' corp ',\n",
    "          ' cant ', 'white house', 'united nation']\n",
    "joined = ['hong-kong', 'north-korea', 'new-york', 'south-korea', 'united-state', 'united-kingdom', ' corporation ',\n",
    "          ' cannot ', 'white-house', 'united-nation']\n",
    "\n",
    "origin_local = []\n",
    "joined_local = []"
   ]
  },
  {
   "cell_type": "code",
   "execution_count": 6,
   "id": "f6f274bb",
   "metadata": {},
   "outputs": [],
   "source": [
    "## Key Phrase Extraction & Merge with RAKE\n",
    "def rake_extract(doc, topk = 100):\n",
    "    r = Rake(min_length=2, max_length=2)\n",
    "    r.extract_keywords_from_text(\" \".join(doc).lower())\n",
    "    phrases = r.get_ranked_phrases_with_scores()\n",
    "    global origin_local, joined_local\n",
    "    for i, _ in enumerate(phrases):\n",
    "        if i >= topk:\n",
    "            break\n",
    "        origin_local.append(_[1])\n",
    "        joined_local.append(_[1].replace(' ', '-'))"
   ]
  },
  {
   "cell_type": "code",
   "execution_count": 7,
   "id": "1f9e90a7",
   "metadata": {},
   "outputs": [],
   "source": [
    "## Data clearning\n",
    "def clean(doc):\n",
    "    doc = doc.lower()\n",
    "    doc = re.sub(r'\\s+', ' ', doc)\n",
    "    punc_free = ''.join(ch for ch in doc if ch in include)\n",
    "    punc_free = ''.join(ch for ch in punc_free if ch not in exclude)\n",
    "    global origin_local, joined_local\n",
    "    for o, j in zip(origin_local, joined_local):\n",
    "        punc_free = punc_free.replace(o, j)\n",
    "    stop_free = ' '.join([i for i in punc_free.split() if i not in stop])\n",
    "    normalized = ' '.join(lemma.lemmatize(word) for word in stop_free.split())\n",
    "    stop_free = ' '.join([i for i in normalized.split() if i not in stop])\n",
    "    return stop_free.split()"
   ]
  },
  {
   "cell_type": "code",
   "execution_count": 8,
   "id": "75b6f2d9",
   "metadata": {},
   "outputs": [
    {
     "name": "stdout",
     "output_type": "stream",
     "text": [
      "RAKE Finished: 2023-11-08 05:43:08.811446\n",
      "CLean Finished: 2023-11-08 05:43:11.077856\n"
     ]
    }
   ],
   "source": [
    "text_lst = df['text'].tolist()\n",
    "## HTML Link Removal\n",
    "nolink_text_lst = [re.sub(r'http\\S+', '', _) for _ in  text_lst] \n",
    "nolink_text_lst = [re.sub(r'pic\\.twitter\\.com/\\S+', '', _) for _ in  nolink_text_lst] \n",
    "\n",
    "## Remove non-English Characters\n",
    "eng_text_lst = [_.encode(\"ascii\", errors=\"ignore\").decode() for _ in nolink_text_lst]\n",
    "\n",
    "rake_extract(eng_text_lst, 100)\n",
    "print(\"RAKE Finished:\", datetime.datetime.now())\n",
    "\n",
    "with multiprocessing.Pool(4) as pool:\n",
    "    cleaned_text_lst = pool.map(clean, eng_text_lst)\n",
    "print(\"CLean Finished:\", datetime.datetime.now())"
   ]
  },
  {
   "cell_type": "code",
   "execution_count": 9,
   "id": "f1235d46",
   "metadata": {},
   "outputs": [
    {
     "name": "stdout",
     "output_type": "stream",
     "text": [
      "Original Text: Mainland China UnionPay expands to online store in Taiwan. 银联卡在台湾刷卡交易服务范围正式从实体商店扩大到网络商店。http://english.people.com.cn/90778/7725836.html …\n",
      "Link removed Text: Mainland China UnionPay expands to online store in Taiwan. 银联卡在台湾刷卡交易服务范围正式从实体商店扩大到网络商店。 …\n",
      "English-only Text: Mainland China UnionPay expands to online store in Taiwan. \n",
      "Final Clean Text: ['mainland', 'unionpay', 'expands', 'online', 'store', 'taiwan']\n"
     ]
    }
   ],
   "source": [
    "# We will show how the data cleaning works\n",
    "# We will first show the original text\n",
    "print(\"Original Text:\", text_lst[0])\n",
    "# Then we will show the text after removing the links\n",
    "print(\"Link removed Text:\", nolink_text_lst[0])\n",
    "# Then we will show the text after removing the non-English characters\n",
    "print(\"English-only Text:\", eng_text_lst[0])\n",
    "# Finally, we will show the text after cleaning, lemmatising, and removing stopwords\n",
    "print(\"Final Clean Text:\", cleaned_text_lst[0])"
   ]
  },
  {
   "cell_type": "code",
   "execution_count": 10,
   "id": "8b0bd3f7",
   "metadata": {},
   "outputs": [],
   "source": [
    "from gensim import corpora\n",
    "from gensim.models import LdaSeqModel\n",
    "\n",
    "dictionary = corpora.Dictionary(cleaned_text_lst)\n",
    "doc_term_matrix = [dictionary.doc2bow(x) for x in cleaned_text_lst]\n",
    "\n",
    "for key in dictionary.token2id.keys():\n",
    "    dictionary.id2token[dictionary.token2id[key]] = key"
   ]
  },
  {
   "cell_type": "markdown",
   "id": "37444702",
   "metadata": {},
   "source": [
    "We train the topic model in the following line. Where we set the number of topic to be 6, and feed in the number of articles of each time slice (year). Here we specifically set the chain_variance to a higher value (0.5) to highlight the model's capacity in modelling the varying semantics over the time slices."
   ]
  },
  {
   "cell_type": "code",
   "execution_count": 11,
   "id": "8930df52",
   "metadata": {
    "scrolled": true
   },
   "outputs": [],
   "source": [
    "ldaseq = LdaSeqModel(corpus=doc_term_matrix, id2word=dictionary.id2token, \n",
    "                     time_slice=list(ax[0]), num_topics=6, chain_variance=0.5, random_state=42, passes=100,  chunksize=1000)"
   ]
  },
  {
   "cell_type": "code",
   "execution_count": 12,
   "id": "67a3740e",
   "metadata": {},
   "outputs": [],
   "source": [
    "ldaseq.save('./ldaseq_topic6_hv.tpc')"
   ]
  },
  {
   "cell_type": "markdown",
   "id": "5095e8fa",
   "metadata": {},
   "source": [
    "Here we save the model's topic assignment to a csv table for future use.  "
   ]
  },
  {
   "cell_type": "code",
   "execution_count": 13,
   "id": "42cc969d",
   "metadata": {},
   "outputs": [],
   "source": [
    "topic_assignment_lst = []\n",
    "for doc_number in range(len(doc_term_matrix)):\n",
    "    topic_assignment = ldaseq.doc_topics(doc_number)\n",
    "    topic_assignment_lst.append(topic_assignment.argmax(-1))\n",
    "\n",
    "df['topic'] = topic_assignment_lst\n",
    "#df.to_csv(\"../data/tweets_PDChina_All_with_topic.csv\", sep=',', index=False, encoding='utf-8')"
   ]
  },
  {
   "cell_type": "markdown",
   "id": "c2b30369",
   "metadata": {},
   "source": [
    "We now have a trained topic model. We can probe what topics the model has learned. In this example, we exam the topics of year 2016-2017."
   ]
  },
  {
   "cell_type": "code",
   "execution_count": 14,
   "id": "4022be26",
   "metadata": {},
   "outputs": [
    {
     "name": "stdout",
     "output_type": "stream",
     "text": [
      "This is topic 1, the topic is consisted of the following words:\n",
      "['woman', 'man', 'online', 'world', 'team', 'new', 'robot', 'life', 'human', 'sign', 'girl', 'hospital', 'beijing', 'help', 'child', 'port', 'art', 'road', 'taking', 'win', 'family', 'german', 'court', 'stunning', 'couple', 'young', 'yi', 'gold', 'role', 'better']\n",
      "---------------------------------------\n",
      "This is topic 2, the topic is consisted of the following words:\n",
      "['police', 'military', 'near', 'dead', 'force', 'missile', 'student', 'death', 'air', 'drill', 'southchinasea', 'aircraft', 'attack', 'sea', 'school', 'pla', 'training', 'ship', 'island', 'least', 'navy', 'medium', 'flight', 'plane', 'south', 'toll', 'dog', 'taiwan', 'jet', 'water']\n",
      "---------------------------------------\n",
      "This is topic 3, the topic is consisted of the following words:\n",
      "['world', 'new', 'million', 'country', 'pic', 'market', 'largest', 'company', 'billion', 'trade', 'build', 'project', 'yuan', 'power', 'beijing', 'bank', 'top', 'shanghai', 'investment', 'system', 'record', 'set', 'service', 'open', 'city', 'industry', 'beltandroad', 'university', 'mln', 'end']\n",
      "---------------------------------------\n",
      "This is topic 4, the topic is consisted of the following words:\n",
      "['premier', 'li', 'official', 'launch', 'video', 'india', 'plan', 'keqiang', 'missing', 'growth', 'authority', 'new', 'economic', 'former', 'space', 'party', 'national', 'tue', 'satellite', 'ministry', 'security', 'launched', 'development', 'data', 'head', 'central', 'say', 'state', 'law', 'medium']\n",
      "---------------------------------------\n",
      "This is topic 5, the topic is consisted of the following words:\n",
      "['province', 'city', 'panda', 'sw', 'killed', 'injured', 'train', 'breaking', 'beijing', 'hit', 'earthquake', 'tourist', 'nw', 'railway', 'county', 'bridge', 'park', 'sichuan', 'central', 'xinjiang', 'seen', 'fire', 'car', 'river', 'local', 'km', 'world', 'view', 'water', 'passenger']\n",
      "---------------------------------------\n",
      "This is topic 6, the topic is consisted of the following words:\n",
      "['president', 'xi', 'dprk', 'xijinping', 'visit', 'breaking', 'cooperation', 'beijing', 'russian', 'th', 'realdonaldtrump', 'fm', 'state', 'russia', 'leader', 'tie', 'korean', 'country', 'un', 'ceremony', 'minister', 'issue', 'military', 'national', 'jinping', 'call', 'meeting', 'summit', 'foreign', 'trump']\n",
      "---------------------------------------\n"
     ]
    }
   ],
   "source": [
    "for topic_num in range(6):\n",
    "    topic = ldaseq.print_topic(topic=topic_num, time=5, top_terms=30)\n",
    "    print(\"This is topic {}, the topic is consisted of the following words:\".format(topic_num+1))\n",
    "    print([_[0] for _ in topic])\n",
    "    print(\"---------------------------------------\")"
   ]
  },
  {
   "cell_type": "markdown",
   "id": "d6d3ba3e",
   "metadata": {},
   "source": [
    "After a comprehensive analysis, we can distill distinct meanings from each topic, thereby sharpening our interpretive acumen. Let's delve into the specifics:\n",
    "\n",
    "Topic 1: **Daily Human Interactions** - This topic is woven into the fabric of everyday life, as suggested by key terms like 'woman', 'man', 'online', 'life', 'robot', and 'world'. These words sketch a vivid tableau of our routine existence and interactions in the digital era.\n",
    "\n",
    "Topic 2: **Conflict and Warfare** - Marked by a lexicon of tension and strife—'police', 'military', 'near', 'dead', 'missile', 'death', 'student', 'force', 'aircraft'—this topic underscores the grim realities of global unrest and the machinery of war.\n",
    "\n",
    "Topic 3: **Global Economics and Commerce** - This topic is clearly entrenched in the world of finance and trade, with 'world', 'new', 'country', 'million', 'pic', 'market', 'largest', 'company', 'build', 'billion', and 'trade' signaling a discourse dominated by market dynamics and corporate strategies.\n",
    "\n",
    "Topic 4: **Domestic Governance** - The mention of former Chinese Prime Minister Keqiang Li, along with terms tied to economic expansion, positions this topic squarely in the realm of national policy and administrative maneuvers.\n",
    "\n",
    "Topic 5: **Urgent Developments** - Words like 'killed', 'injured', 'train', 'hit', 'beijing', 'tourist', 'earthquake' point to the unpredictable and often tragic nature of breaking news, capturing moments of crisis that demand immediate public attention.\n",
    "\n",
    "Topic 6: **International Diplomacy** - The inclusion of 'xijinping', 'dprk', 'visit', 'cooperation', 'beijing', 'realdonaldtrump', and 'russian' reflects the intricate dance of global politics, hinting at narratives of power, alliance, and international relations.\n",
    "\n",
    "However, certain terms, such as \"sw,\" \"nw,\" and \"th,\" elude clear categorization, likely serving as noise rather than signal. To refine our model, a supplementary phase of data cleansing is advisable to prune these outliers.\n",
    "\n",
    "Additionally, monitoring the evolution of a topic can yield insights into changing discourses over time. By tracking the word composition of Topic 6 from 2011 to 2019, for instance, we can chart the transformation in diplomatic engagements and geopolitical rhetoric, thus gaining a longitudinal perspective on shifts in international politics."
   ]
  },
  {
   "cell_type": "code",
   "execution_count": 15,
   "id": "baf0a88e",
   "metadata": {},
   "outputs": [
    {
     "name": "stdout",
     "output_type": "stream",
     "text": [
      "This is year 2011-2012, the topic is consisted of the following words:\n",
      "['president', 'th', 'visit', 'xi', 'minister', 'hong', 'state', 'jinping', 'south', 'foreign', 'held', 'beijing', 'korea', 'kong', 'ceremony', 'leader', 'cooperation', 'national', 'new', 'session', 'prime', 'un', 'dprk', 'japan', 'russian', 'issue', 'tie', 'army', 'attend', 'meeting', 'met', 'talk', 'country', 'hold', 'ministry', 'top', 'taiwan', 'relation', 'pakistan', 'united', 'political', 'meet', 'urged', 'member', 'african', 'obama', 'russia', 'visiting', 'secretary', 'anniversary', 'peace', 'arrested', 'military', 'wang', 'dance', 'defense', 'korean', 'parade', 'mark', 'security', 'international', 'moon', 'border', 'posted', 'counterpart', 'special', 'arrived', 'fm', 'interest', 'japanese', 'syria', 'bilateral', 'facebook', 'conference', 'suspect', 'government', 'victim', 'hope', 'wed', 'republic', 'agreed', 'tue', 'summit', 'nanjing', 'trade', 'spokesman', 'sco', 'strategic', 'egypt', 'forum', 'kim', 'zhang', 'effort', 'pakistani', 'fri', 'mainland', 'front', 'annual', 'mon', 'war']\n",
      "---------------------------------------\n",
      "This is year 2012-2013, the topic is consisted of the following words:\n",
      "['president', 'th', 'visit', 'xi', 'minister', 'jinping', 'hong', 'state', 'south', 'foreign', 'beijing', 'held', 'ceremony', 'leader', 'national', 'korea', 'new', 'kong', 'session', 'cooperation', 'prime', 'japan', 'un', 'russian', 'met', 'army', 'issue', 'attend', 'ministry', 'meeting', 'talk', 'tie', 'dprk', 'top', 'hold', 'country', 'pakistan', 'united', 'taiwan', 'relation', 'meet', 'political', 'african', 'russia', 'urged', 'member', 'obama', 'visiting', 'secretary', 'anniversary', 'arrested', 'wang', 'military', 'dance', 'korean', 'parade', 'mark', 'defense', 'moon', 'international', 'peace', 'security', 'border', 'counterpart', 'special', 'arrived', 'posted', 'fm', 'japanese', 'syria', 'bilateral', 'facebook', 'conference', 'suspect', 'government', 'hope', 'wed', 'republic', 'victim', 'interest', 'agreed', 'tue', 'summit', 'spokesman', 'strategic', 'egypt', 'zhang', 'effort', 'fri', 'nanjing', 'forum', 'trade', 'pakistani', 'mon', 'front', 'mainland', 'perform', 'barack', 'kim', 'affair']\n",
      "---------------------------------------\n",
      "This is year 2013-2014, the topic is consisted of the following words:\n",
      "['president', 'xi', 'minister', 'visit', 'th', 'jinping', 'foreign', 'south', 'state', 'hong', 'ceremony', 'leader', 'prime', 'beijing', 'kong', 'held', 'new', 'met', 'cooperation', 'russian', 'korea', 'ministry', 'meeting', 'national', 'un', 'talk', 'united', 'attend', 'pakistan', 'african', 'country', 'hold', 'meet', 'visiting', 'top', 'taiwan', 'tie', 'russia', 'army', 'dprk', 'japan', 'obama', 'urged', 'arrested', 'parade', 'wang', 'issue', 'relation', 'secretary', 'dance', 'moon', 'korean', 'mark', 'border', 'political', 'member', 'defense', 'counterpart', 'international', 'session', 'security', 'arrived', 'anniversary', 'military', 'posted', 'bilateral', 'facebook', 'suspect', 'hope', 'wed', 'special', 'japanese', 'peace', 'government', 'syria', 'republic', 'fm', 'tue', 'conference', 'agreed', 'summit', 'spokesman', 'fri', 'egypt', 'victim', 'mon', 'pakistani', 'effort', 'barack', 'interest', 'trade', 'opening', 'strategic', 'zhang', 'affair', 'front', 'lady', 'group', 'memorial', 'forum']\n",
      "---------------------------------------\n",
      "This is year 2014-2015, the topic is consisted of the following words:\n",
      "['president', 'xi', 'jinping', 'beijing', 'th', 'visit', 'minister', 'meeting', 'leader', 'hong', 'wed', 'state', 'tue', 'held', 'kong', 'ceremony', 'met', 'fri', 'foreign', 'fm', 'mon', 'russian', 'new', 'cooperation', 'russia', 'talk', 'country', 'dprk', 'attend', 'un', 'meet', 'south', 'national', 'arrested', 'korea', 'prime', 'wang', 'parade', 'tie', 'japan', 'suspect', 'ministry', 'border', 'top', 'apec', 'summit', 'sun', 'arrived', 'hold', 'mark', 'military', 'thurs', 'counterpart', 'secretary', 'relation', 'visiting', 'nepal', 'bilateral', 'korean', 'member', 'urged', 'anniversary', 'taiwan', 'pakistan', 'japanese', 'putin', 'issue', 'session', 'agreed', 'security', 'moscow', 'defense', 'political', 'kim', 'welcome', 'army', 'affair', 'peace', 'trade', 'nanjing', 'group', 'development', 'african', 'myanmar', 'opening', 'war', 'moon', 'chief', 'game', 'conference', 'forum', 'strategic', 'dec', 'memorial', 'international', 'zhang', 'victim', 'interest', 'hope', 'macao']\n",
      "---------------------------------------\n",
      "This is year 2015-2016, the topic is consisted of the following words:\n",
      "['president', 'xi', 'foreign', 'beijing', 'dprk', 'th', 'state', 'visit', 'cooperation', 'minister', 'jinping', 'meeting', 'country', 'un', 'leader', 'ministry', 'korean', 'south', 'russian', 'fm', 'held', 'korea', 'talk', 'xijinping', 'hong', 'trump', 'met', 'summit', 'trade', 'wang', 'ceremony', 'breaking', 'national', 'wed', 'new', 'kim', 'kong', 'tie', 'tue', 'russia', 'bilateral', 'suspect', 'spokesperson', 'relation', 'border', 'mark', 'meet', 'issue', 'development', 'secretary', 'moon', 'parade', 'arrested', 'anniversary', 'military', 'top', 'mon', 'putin', 'attend', 'peace', 'hold', 'japan', 'welcome', 'security', 'fri', 'political', 'war', 'visiting', 'taiwan', 'arrived', 'counterpart', 'international', 'prime', 'forum', 'jong', 'joint', 'agreed', 'sun', 'terrorist', 'session', 'affair', 'game', 'dialogue', 'member', 'defense', 'group', 'strategic', 'opening', 'special', 'sco', 'army', 'hope', 'interest', 'japanese', 'vday', 'peninsula', 'support', 'urged', 'economic', 'nuclear']\n",
      "---------------------------------------\n",
      "This is year 2016-2017, the topic is consisted of the following words:\n",
      "['president', 'xi', 'dprk', 'xijinping', 'visit', 'breaking', 'cooperation', 'beijing', 'russian', 'th', 'realdonaldtrump', 'fm', 'state', 'russia', 'leader', 'tie', 'korean', 'country', 'un', 'ceremony', 'minister', 'issue', 'military', 'national', 'jinping', 'call', 'meeting', 'summit', 'foreign', 'trump', 'held', 'talk', 'border', 'wed', 'rok', 'meet', 'brics', 'tue', 'new', 'mark', 'xivisit', 'urge', 'korea', 'parade', 'welcome', 'suspect', 'japan', 'hold', 'development', 'fri', 'relation', 'hong', 'putin', 'peninsula', 'army', 'anniversary', 'nuclear', 'south', 'security', 'bilateral', 'peace', 'attend', 'kong', 'syria', 'arrested', 'trade', 'met', 'ministry', 'beltandroad', 'counterpart', 'dialogue', 'moon', 'forum', 'war', 'thaad', 'thu', 'secretary', 'game', 'mon', 'chinaus', 'spokesperson', 'arrives', 'myanmar', 'group', 'terrorist', 'taiwan', 'strategic', 'defense', 'moscow', 'wang', 'support', 'visiting', 'hope', 'joint', 'medium', 'chief', 'effort', 'sun', 'iran', 'kim']\n",
      "---------------------------------------\n",
      "This is year 2017-2018, the topic is consisted of the following words:\n",
      "['president', 'xijinping', 'visit', 'xi', 'russian', 'fm', 'breaking', 'beijing', 'cooperation', 'state', 'fri', 'wed', 'th', 'summit', 'tue', 'dprk', 'un', 'meet', 'russia', 'leader', 'tie', 'xivisit', 'ceremony', 'mon', 'meeting', 'minister', 'hold', 'country', 'urge', 'talk', 'issue', 'held', 'call', 'korean', 'new', 'thu', 'welcome', 'syria', 'suspect', 'philippine', 'national', 'sun', 'realdonaldtrump', 'japan', 'mark', 'putin', 'border', 'arrested', 'security', 'korea', 'foreign', 'relation', 'military', 'nuclear', 'taiwan', 'development', 'met', 'rok', 'arrives', 'myanmar', 'attend', 'bilateral', 'anniversary', 'peace', 'counterpart', 'south', 'nov', 'nepal', 'support', 'joint', 'strategic', 'opening', 'chief', 'election', 'brics', 'file', 'jinping', 'hong', 'thurs', 'filepic', 'army', 'agree', 'apec', 'partnership', 'likeqiang', 'thur', 'iran', 'member', 'council', 'defense', 'group', 'ministry', 'trade', 'thaad', 'hope', 'moscow', 'parade', 'terrorist', 'dialogue', 'speech']\n",
      "---------------------------------------\n",
      "This is year 2018-2019, the topic is consisted of the following words:\n",
      "['president', 'xijinping', 'fm', 'visit', 'un', 'breaking', 'dprk', 'fri', 'xi', 'state', 'tue', 'beijing', 'russian', 'th', 'wed', 'cooperation', 'xiukvisit', 'meet', 'minister', 'russia', 'leader', 'new', 'npc', 'mon', 'tie', 'hold', 'urge', 'issue', 'nepal', 'country', 'sun', 'meeting', 'talk', 'ceremony', 'summit', 'national', 'suspect', 'arrested', 'held', 'syria', 'security', 'mark', 'call', 'thu', 'welcome', 'xivisit', 'korean', 'nuclear', 'border', 'japan', 'live', 'foreign', 'korea', 'development', 'relation', 'taiwan', 'uk', 'myanmar', 'filepic', 'philippine', 'arrives', 'peace', 'military', 'chief', 'bilateral', 'session', 'peng', 'putin', 'anniversary', 'stress', 'counterpart', 'hong', 'attend', 'wang', 'thurs', 'support', 'strategic', 'xijinpings', 'met', 'king', 'dance', 'army', 'kong', 'japanese', 'defense', 'joint', 'hope', 'thur', 'group', 'hongkong', 'interest', 'work', 'realdonaldtrump', 'council', 'sept', 'visiting', 'member', 'parade', 'rok', 'dialogue']\n",
      "---------------------------------------\n"
     ]
    }
   ],
   "source": [
    "for time_marker in range(8):\n",
    "    topic = ldaseq.print_topic(topic=5, time=time_marker, top_terms=100)\n",
    "    print(\"This is year {}-{}, the topic is consisted of the following words:\".format(time_marker+2011, time_marker+2012))\n",
    "    print([_[0] for _ in topic])\n",
    "    print(\"---------------------------------------\")"
   ]
  },
  {
   "cell_type": "markdown",
   "id": "c0912d32",
   "metadata": {},
   "source": [
    "Year after year, the focal points within our topic landscape have shifted, mirroring the ebb and flow of global events. For instance, \"DPRK\" ascended to a position of prominence between 2015 and 2018. This trend is reflective of North Korea's escalated military endeavors during Kim Jong-un's tenure, capturing the world's attention.\n",
    "\n",
    "Concurrently, \"Hong Kong\" became increasingly salient from 2011 through 2014. This period saw growing strains between the Chinese central government and the Hong Kong Special Administrative Region, culminating in the Umbrella Movement of 2014. The surge in mentions of \"Hong Kong\" encapsulates the build-up to these pivotal pro-democracy protests, signifying a period marked by calls for greater autonomy and political reform."
   ]
  }
 ],
 "metadata": {
  "kernelspec": {
   "display_name": "Python 3 (ipykernel)",
   "language": "python",
   "name": "python3"
  },
  "language_info": {
   "codemirror_mode": {
    "name": "ipython",
    "version": 3
   },
   "file_extension": ".py",
   "mimetype": "text/x-python",
   "name": "python",
   "nbconvert_exporter": "python",
   "pygments_lexer": "ipython3",
   "version": "3.9.12"
  }
 },
 "nbformat": 4,
 "nbformat_minor": 5
}
